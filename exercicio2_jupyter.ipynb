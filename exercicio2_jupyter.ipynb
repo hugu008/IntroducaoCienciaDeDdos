{
 "cells": [
  {
   "cell_type": "code",
   "execution_count": null,
   "id": "62e897ea",
   "metadata": {},
   "outputs": [],
   "source": [
    "num1 = 5\n",
    "num2 = 10\n",
    "print('Soma:', num1 + num2)"
   ]
  },
  {
   "cell_type": "code",
   "execution_count": null,
   "id": "cfe169a8",
   "metadata": {},
   "outputs": [],
   "source": [
    "print('Multiplicação:', num1 * num2)"
   ]
  },
  {
   "cell_type": "code",
   "execution_count": null,
   "id": "7aa69e48",
   "metadata": {},
   "outputs": [],
   "source": [
    "nota1 = 7.5\n",
    "nota2 = 8.0\n",
    "nota3 = 6.5\n",
    "media = (nota1 + nota2 + nota3) / 3\n",
    "print('Média:', media)"
   ]
  },
  {
   "cell_type": "code",
   "execution_count": null,
   "id": "a18ad5e5",
   "metadata": {},
   "outputs": [],
   "source": [
    "if num1 > 0:\n",
    "    print('num1 é positivo')\n",
    "else:\n",
    "    print('num1 é negativo')"
   ]
  },
  {
   "cell_type": "code",
   "execution_count": null,
   "id": "f5ac0d52",
   "metadata": {},
   "outputs": [],
   "source": [
    "if num2 % 2 == 0:\n",
    "    print('num2 é par')\n",
    "else:\n",
    "    print('num2 é ímpar')"
   ]
  },
  {
   "cell_type": "code",
   "execution_count": null,
   "id": "c91fec41",
   "metadata": {},
   "outputs": [],
   "source": [
    "if media >= 6.0:\n",
    "    print('Aprovado')\n",
    "elif 4.0 <= media < 6.0:\n",
    "    print('Recuperação')\n",
    "else:\n",
    "    print('Reprovado')"
   ]
  },
  {
   "cell_type": "code",
   "execution_count": null,
   "id": "f6973b04",
   "metadata": {},
   "outputs": [],
   "source": [
    "idade = 25\n",
    "if idade < 12:\n",
    "    print('Criança')\n",
    "elif 12 <= idade < 18:\n",
    "    print('Adolescente')\n",
    "elif 18 <= idade < 60:\n",
    "    print('Adulto')\n",
    "else:\n",
    "    print('Idoso')"
   ]
  },
  {
   "cell_type": "code",
   "execution_count": null,
   "id": "b7edf34b",
   "metadata": {},
   "outputs": [],
   "source": [
    "i = 1\n",
    "while i <= 10:\n",
    "    print(i)\n",
    "    i += 1"
   ]
  },
  {
   "cell_type": "code",
   "execution_count": null,
   "id": "5de21a60",
   "metadata": {},
   "outputs": [],
   "source": [
    "for i in range(1, 11):\n",
    "    print(i)"
   ]
  },
  {
   "cell_type": "code",
   "execution_count": null,
   "id": "abfe2bb2",
   "metadata": {},
   "outputs": [],
   "source": [
    "for i in range(1, 11):\n",
    "    print(f'{num1} x {i} = {num1 * i}')"
   ]
  },
  {
   "cell_type": "code",
   "execution_count": null,
   "id": "f71bfccc",
   "metadata": {},
   "outputs": [],
   "source": [
    "i = 0\n",
    "while i <= 100:\n",
    "    print(i)\n",
    "    i += 10"
   ]
  },
  {
   "cell_type": "code",
   "execution_count": null,
   "id": "32cd567c",
   "metadata": {},
   "outputs": [],
   "source": [
    "for i in range(0, 21, 2):\n",
    "    print(i)"
   ]
  },
  {
   "cell_type": "code",
   "execution_count": null,
   "id": "5e95a1db",
   "metadata": {},
   "outputs": [],
   "source": [
    "def celsius_para_fahrenheit(celsius):\n",
    "    return celsius * 1.8 + 32\n",
    "\n",
    "print('30°C em Fahrenheit:', celsius_para_fahrenheit(30))"
   ]
  },
  {
   "cell_type": "code",
   "execution_count": null,
   "id": "69de42e8",
   "metadata": {},
   "outputs": [],
   "source": [
    "def calculadora():\n",
    "    num1 = float(input('Digite o primeiro número: '))\n",
    "    num2 = float(input('Digite o segundo número: '))\n",
    "    operacao = input('Escolha a operação (+, -, *, /): ')\n",
    "    if operacao == '+':\n",
    "        print('Resultado:', num1 + num2)\n",
    "    elif operacao == '-':\n",
    "        print('Resultado:', num1 - num2)\n",
    "    elif operacao == '*':\n",
    "        print('Resultado:', num1 * num2)\n",
    "    elif operacao == '/':\n",
    "        if num2 != 0:\n",
    "            print('Resultado:', num1 / num2)\n",
    "        else:\n",
    "            print('Erro: divisão por zero')\n",
    "    else:\n",
    "        print('Operação inválida')\n",
    "\n",
    "# Para executar a função, remova o comentário abaixo\n",
    "# calculadora()"
   ]
  }
 ],
 "metadata": {},
 "nbformat": 4,
 "nbformat_minor": 5
}
