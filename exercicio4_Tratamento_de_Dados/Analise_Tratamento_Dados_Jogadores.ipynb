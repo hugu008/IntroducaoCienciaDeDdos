{
 "cells": [
  {
   "cell_type": "markdown",
   "id": "b77c473b-db06-4dd2-ba38-cfeb47fc6e75",
   "metadata": {},
   "source": [
    "# **Análise Exploratória e Tratamento de Dados**"
   ]
  },
  {
   "cell_type": "markdown",
   "id": "b1dec3d7-932c-4d02-9935-9b6ac78f3cfd",
   "metadata": {},
   "source": [
    "O objetivo aqui é observar os dados, identificar problemas e realizar os ajustes necessários.  \n",
    "Pra isso, vou usar comandos informativos pra entender melhor o conteúdo da base, e comandos transformativos quando for necessário corrigir valores nulos, fora da faixa permitida ou com erro de digitação.  \n",
    "\n",
    "A base representa jogadores de um jogo de RPG, e algumas regras devem ser respeitadas:\n",
    "\n",
    "- O `score` deve estar entre 0 e 1.000.000  \n",
    "- O `nivel` deve estar entre 0 e 1000  \n",
    "- A `idade` deve estar entre 0 e 100  \n",
    "\n",
    "Com base nessas informações, vou explorar os dados e tratar o que estiver fora do esperado.\n"
   ]
  },
  {
   "cell_type": "code",
   "execution_count": 172,
   "id": "e3d01e63-f774-47dd-8176-6ff4a66606a2",
   "metadata": {},
   "outputs": [
    {
     "data": {
      "text/html": [
       "<div>\n",
       "<style scoped>\n",
       "    .dataframe tbody tr th:only-of-type {\n",
       "        vertical-align: middle;\n",
       "    }\n",
       "\n",
       "    .dataframe tbody tr th {\n",
       "        vertical-align: top;\n",
       "    }\n",
       "\n",
       "    .dataframe thead th {\n",
       "        text-align: right;\n",
       "    }\n",
       "</style>\n",
       "<table border=\"1\" class=\"dataframe\">\n",
       "  <thead>\n",
       "    <tr style=\"text-align: right;\">\n",
       "      <th></th>\n",
       "      <th>id</th>\n",
       "      <th>score</th>\n",
       "      <th>nivel</th>\n",
       "      <th>categoria</th>\n",
       "      <th>idade</th>\n",
       "      <th>pais</th>\n",
       "    </tr>\n",
       "  </thead>\n",
       "  <tbody>\n",
       "    <tr>\n",
       "      <th>0</th>\n",
       "      <td>1</td>\n",
       "      <td>321057.0</td>\n",
       "      <td>321.0</td>\n",
       "      <td>elfo</td>\n",
       "      <td>43.0</td>\n",
       "      <td>United States</td>\n",
       "    </tr>\n",
       "    <tr>\n",
       "      <th>1</th>\n",
       "      <td>2</td>\n",
       "      <td>495527.0</td>\n",
       "      <td>466.0</td>\n",
       "      <td>mago</td>\n",
       "      <td>16.0</td>\n",
       "      <td>Canada</td>\n",
       "    </tr>\n",
       "    <tr>\n",
       "      <th>2</th>\n",
       "      <td>3</td>\n",
       "      <td>700848.0</td>\n",
       "      <td>255.0</td>\n",
       "      <td>NaN</td>\n",
       "      <td>54.0</td>\n",
       "      <td>United States</td>\n",
       "    </tr>\n",
       "    <tr>\n",
       "      <th>3</th>\n",
       "      <td>4</td>\n",
       "      <td>985558.0</td>\n",
       "      <td>679.0</td>\n",
       "      <td>mago</td>\n",
       "      <td>87.0</td>\n",
       "      <td>Brazil</td>\n",
       "    </tr>\n",
       "    <tr>\n",
       "      <th>4</th>\n",
       "      <td>5</td>\n",
       "      <td>517633.0</td>\n",
       "      <td>752.0</td>\n",
       "      <td>guerreiro</td>\n",
       "      <td>69.0</td>\n",
       "      <td>Japan</td>\n",
       "    </tr>\n",
       "  </tbody>\n",
       "</table>\n",
       "</div>"
      ],
      "text/plain": [
       "   id     score  nivel  categoria  idade           pais\n",
       "0   1  321057.0  321.0       elfo   43.0  United States\n",
       "1   2  495527.0  466.0       mago   16.0         Canada\n",
       "2   3  700848.0  255.0        NaN   54.0  United States\n",
       "3   4  985558.0  679.0       mago   87.0         Brazil\n",
       "4   5  517633.0  752.0  guerreiro   69.0          Japan"
      ]
     },
     "execution_count": 172,
     "metadata": {},
     "output_type": "execute_result"
    }
   ],
   "source": [
    "# importar as bibliotecas\n",
    "import pandas as pd\n",
    "import seaborn as srn\n",
    "import statistics as sts\n",
    "\n",
    "# Carregar o arquivo CSV\n",
    "df = pd.read_csv(\"jogadores.csv\")\n",
    "\n",
    "# Exibir as primeiras linhas do dataframe\n",
    "df.head()"
   ]
  },
  {
   "cell_type": "code",
   "execution_count": 135,
   "id": "95854818-f96f-42c9-bc4f-f30e0ccc2ef6",
   "metadata": {},
   "outputs": [
    {
     "data": {
      "text/html": [
       "<div>\n",
       "<style scoped>\n",
       "    .dataframe tbody tr th:only-of-type {\n",
       "        vertical-align: middle;\n",
       "    }\n",
       "\n",
       "    .dataframe tbody tr th {\n",
       "        vertical-align: top;\n",
       "    }\n",
       "\n",
       "    .dataframe thead th {\n",
       "        text-align: right;\n",
       "    }\n",
       "</style>\n",
       "<table border=\"1\" class=\"dataframe\">\n",
       "  <thead>\n",
       "    <tr style=\"text-align: right;\">\n",
       "      <th></th>\n",
       "      <th>id</th>\n",
       "      <th>score</th>\n",
       "      <th>nivel</th>\n",
       "      <th>categoria</th>\n",
       "      <th>idade</th>\n",
       "      <th>pais</th>\n",
       "    </tr>\n",
       "  </thead>\n",
       "  <tbody>\n",
       "    <tr>\n",
       "      <th>995</th>\n",
       "      <td>996</td>\n",
       "      <td>146132.0</td>\n",
       "      <td>417.0</td>\n",
       "      <td>elfo</td>\n",
       "      <td>78.0</td>\n",
       "      <td>Japan</td>\n",
       "    </tr>\n",
       "    <tr>\n",
       "      <th>996</th>\n",
       "      <td>997</td>\n",
       "      <td>845482.0</td>\n",
       "      <td>588.0</td>\n",
       "      <td>orc</td>\n",
       "      <td>69.0</td>\n",
       "      <td>Portugal</td>\n",
       "    </tr>\n",
       "    <tr>\n",
       "      <th>997</th>\n",
       "      <td>998</td>\n",
       "      <td>230131.0</td>\n",
       "      <td>660.0</td>\n",
       "      <td>mago</td>\n",
       "      <td>57.0</td>\n",
       "      <td>Japan</td>\n",
       "    </tr>\n",
       "    <tr>\n",
       "      <th>998</th>\n",
       "      <td>999</td>\n",
       "      <td>635044.0</td>\n",
       "      <td>731.0</td>\n",
       "      <td>orc</td>\n",
       "      <td>17.0</td>\n",
       "      <td>Brazil</td>\n",
       "    </tr>\n",
       "    <tr>\n",
       "      <th>999</th>\n",
       "      <td>1000</td>\n",
       "      <td>317887.0</td>\n",
       "      <td>477.0</td>\n",
       "      <td>orc</td>\n",
       "      <td>64.0</td>\n",
       "      <td>Brazil</td>\n",
       "    </tr>\n",
       "  </tbody>\n",
       "</table>\n",
       "</div>"
      ],
      "text/plain": [
       "       id     score  nivel categoria  idade      pais\n",
       "995   996  146132.0  417.0      elfo   78.0     Japan\n",
       "996   997  845482.0  588.0       orc   69.0  Portugal\n",
       "997   998  230131.0  660.0      mago   57.0     Japan\n",
       "998   999  635044.0  731.0       orc   17.0    Brazil\n",
       "999  1000  317887.0  477.0       orc   64.0    Brazil"
      ]
     },
     "execution_count": 135,
     "metadata": {},
     "output_type": "execute_result"
    }
   ],
   "source": [
    "# Exibir as ultimas linhas do dataframe\n",
    "df.tail()"
   ]
  },
  {
   "cell_type": "code",
   "execution_count": 136,
   "id": "bf95bfb4-e8d9-4f8f-981f-be164b3d3778",
   "metadata": {},
   "outputs": [
    {
     "data": {
      "text/plain": [
       "(1000, 6)"
      ]
     },
     "execution_count": 136,
     "metadata": {},
     "output_type": "execute_result"
    }
   ],
   "source": [
    "# formato do dataframe para exibir o numero de linhas e colunas\n",
    "df.shape"
   ]
  },
  {
   "cell_type": "markdown",
   "id": "b4656e4d-482e-475a-a64a-ae70595adc1e",
   "metadata": {},
   "source": [
    "Vemos aqui que o dataframe possui 1000 linhas e 6 colunas o que condiz com o numero de colunas e os numeros finais do id que vimos na exibição das primeiras e ultimas linhas do dataframe."
   ]
  },
  {
   "cell_type": "markdown",
   "id": "99514290-cd68-4064-8383-ad6843baf24f",
   "metadata": {},
   "source": [
    "# **Análise Exploratória**\n",
    "\n",
    "Aqui vou dar uma olhada geral nos dados pra entender melhor o que tem na base, ver se tem coisa faltando ou errada, e começar a identificar possíveis problemas que precisam de tratamento."
   ]
  },
  {
   "cell_type": "code",
   "execution_count": 137,
   "id": "c967795e-0d48-4367-a4da-f36bab114403",
   "metadata": {},
   "outputs": [
    {
     "data": {
      "text/plain": [
       "id           0\n",
       "score        2\n",
       "nivel        2\n",
       "categoria    3\n",
       "idade        3\n",
       "pais         2\n",
       "dtype: int64"
      ]
     },
     "execution_count": 137,
     "metadata": {},
     "output_type": "execute_result"
    }
   ],
   "source": [
    "# verificação de campos nulos no dataframe\n",
    "df.isnull().sum()"
   ]
  },
  {
   "cell_type": "markdown",
   "id": "6a23fcde-ace8-4592-9c5b-167f2c80baf0",
   "metadata": {},
   "source": [
    "Vemos que existem 2 valores nulos nas colunas 'score', 'nivel' e 'pais', e temos 3 valores nulos nas colunas 'categoria' e 'idade'"
   ]
  },
  {
   "cell_type": "markdown",
   "id": "5d6ec822-23eb-4699-96af-a3b8d327b174",
   "metadata": {},
   "source": [
    "## Dados categóricos\n",
    "\n",
    "Agora vou analisar as colunas categóricas da base, agrupando os dados pra ver quantos tem de cada tipo e usando gráficos de barras pra identificar possíveis erros de digitação ou valores fora do padrão."
   ]
  },
  {
   "cell_type": "markdown",
   "id": "39146fdf-69df-48a7-bc00-95045282208e",
   "metadata": {},
   "source": [
    "* ### Coluna: categoria"
   ]
  },
  {
   "cell_type": "code",
   "execution_count": 138,
   "id": "cad8e7b0-be99-457c-ba13-bfc03057d0dd",
   "metadata": {},
   "outputs": [
    {
     "data": {
      "text/plain": [
       "categoria\n",
       "elfo         238\n",
       "guerreiro    242\n",
       "m@go           1\n",
       "mago         275\n",
       "orc          241\n",
       "dtype: int64"
      ]
     },
     "execution_count": 138,
     "metadata": {},
     "output_type": "execute_result"
    }
   ],
   "source": [
    "# agrupando e contando os dados da coluna categoria\n",
    "df.groupby(['categoria']).size()"
   ]
  },
  {
   "cell_type": "code",
   "execution_count": 139,
   "id": "cbd18daf-fd47-40ba-91b3-76a9e243e2ee",
   "metadata": {
    "editable": true,
    "slideshow": {
     "slide_type": ""
    },
    "tags": []
   },
   "outputs": [
    {
     "data": {
      "text/plain": [
       "<Axes: xlabel='categoria'>"
      ]
     },
     "execution_count": 139,
     "metadata": {},
     "output_type": "execute_result"
    },
    {
     "data": {
      "image/png": "[encoded data removed]",
      "text/plain": [
       "<Figure size 640x480 with 1 Axes>"
      ]
     },
     "metadata": {},
     "output_type": "display_data"
    }
   ],
   "source": [
    "# gráfico de barras\n",
    "df.groupby(['categoria']).size().plot.bar()"
   ]
  },
  {
   "cell_type": "markdown",
   "id": "23d974cd-0f05-4503-a62d-809e38a77660",
   "metadata": {},
   "source": [
    "Com essa análise foi possível ver que a coluna categoria possui um dado com erro de digitação: \"m@go\", quando deveria ser \"mago\", vale também lembrar que \"mago\" é o valor mais recorrente da coluna."
   ]
  },
  {
   "cell_type": "markdown",
   "id": "3de75c05-70d1-42b7-91a8-8bd5814efa55",
   "metadata": {},
   "source": [
    "* ### Coluna: pais"
   ]
  },
  {
   "cell_type": "code",
   "execution_count": 141,
   "id": "4e5c2ce8-1c02-4fd7-93b7-e57b444db010",
   "metadata": {},
   "outputs": [
    {
     "data": {
      "text/plain": [
       "pais\n",
       "%apan               1\n",
       "Australia           7\n",
       "Brazil            279\n",
       "C#nada              1\n",
       "Canada             93\n",
       "Italy              10\n",
       "Japan             130\n",
       "Mexico             74\n",
       "Portuga&            1\n",
       "Portugal          222\n",
       "Spain              14\n",
       "United Kingdom     16\n",
       "United States     150\n",
       "dtype: int64"
      ]
     },
     "execution_count": 141,
     "metadata": {},
     "output_type": "execute_result"
    }
   ],
   "source": [
    "# agrupando e contando os dados da coluna pais\n",
    "df.groupby(['pais']).size()"
   ]
  },
  {
   "cell_type": "code",
   "execution_count": 143,
   "id": "61978cf0-7d7a-4a9e-b3c9-ad9c2cf4ca0d",
   "metadata": {
    "editable": true,
    "slideshow": {
     "slide_type": ""
    },
    "tags": []
   },
   "outputs": [
    {
     "data": {
      "text/plain": [
       "<Axes: xlabel='pais'>"
      ]
     },
     "execution_count": 143,
     "metadata": {},
     "output_type": "execute_result"
    },
    {
     "data": {
      "image/png": "[encoded data removed]",
      "text/plain": [
       "<Figure size 640x480 with 1 Axes>"
      ]
     },
     "metadata": {},
     "output_type": "display_data"
    }
   ],
   "source": [
    "# gráfico de barras\n",
    "df.groupby(['pais']).size().plot.bar(color=\"FireBrick\")"
   ]
  },
  {
   "cell_type": "markdown",
   "id": "2df36ebe-b346-469d-bef1-208459b3afbf",
   "metadata": {},
   "source": [
    "Com essa análise foi possível ver que a coluna categoria possui 3 erros de digitação nos dados: \"%apan\", \"C#nada\" e \"Portuga&\", quando deveriam ser \"Japan\", \"Canada\" e \"Portugal\" respectivamente. Vale também lembrar que \"Brazil\" é o valor mais recorrente da coluna."
   ]
  },
  {
   "cell_type": "markdown",
   "id": "b5035bea-203c-49f2-976a-34b694305607",
   "metadata": {},
   "source": [
    "## Dados numéricos\n",
    "\n",
    "Agora vou analisar as colunas numéricas da base, começando com um resumo estatístico e depois visualizando a distribuição dos dados com boxplots e histogramas. Isso vai ajudar a identificar valores fora do esperado ou inconsistências."
   ]
  },
  {
   "cell_type": "code",
   "execution_count": 145,
   "id": "7766d68e-13da-49e4-8d90-4bf761a04fd3",
   "metadata": {},
   "outputs": [
    {
     "data": {
      "text/html": [
       "<div>\n",
       "<style scoped>\n",
       "    .dataframe tbody tr th:only-of-type {\n",
       "        vertical-align: middle;\n",
       "    }\n",
       "\n",
       "    .dataframe tbody tr th {\n",
       "        vertical-align: top;\n",
       "    }\n",
       "\n",
       "    .dataframe thead th {\n",
       "        text-align: right;\n",
       "    }\n",
       "</style>\n",
       "<table border=\"1\" class=\"dataframe\">\n",
       "  <thead>\n",
       "    <tr style=\"text-align: right;\">\n",
       "      <th></th>\n",
       "      <th>id</th>\n",
       "      <th>score</th>\n",
       "      <th>nivel</th>\n",
       "      <th>idade</th>\n",
       "    </tr>\n",
       "  </thead>\n",
       "  <tbody>\n",
       "    <tr>\n",
       "      <th>count</th>\n",
       "      <td>1000.000000</td>\n",
       "      <td>998.000000</td>\n",
       "      <td>998.000000</td>\n",
       "      <td>997.000000</td>\n",
       "    </tr>\n",
       "    <tr>\n",
       "      <th>mean</th>\n",
       "      <td>500.500000</td>\n",
       "      <td>496350.856713</td>\n",
       "      <td>495.098196</td>\n",
       "      <td>56.822467</td>\n",
       "    </tr>\n",
       "    <tr>\n",
       "      <th>std</th>\n",
       "      <td>288.819436</td>\n",
       "      <td>283458.860428</td>\n",
       "      <td>288.395089</td>\n",
       "      <td>25.249907</td>\n",
       "    </tr>\n",
       "    <tr>\n",
       "      <th>min</th>\n",
       "      <td>1.000000</td>\n",
       "      <td>-464.000000</td>\n",
       "      <td>-516.000000</td>\n",
       "      <td>12.000000</td>\n",
       "    </tr>\n",
       "    <tr>\n",
       "      <th>25%</th>\n",
       "      <td>250.750000</td>\n",
       "      <td>259577.250000</td>\n",
       "      <td>247.750000</td>\n",
       "      <td>35.000000</td>\n",
       "    </tr>\n",
       "    <tr>\n",
       "      <th>50%</th>\n",
       "      <td>500.500000</td>\n",
       "      <td>497023.500000</td>\n",
       "      <td>493.500000</td>\n",
       "      <td>59.000000</td>\n",
       "    </tr>\n",
       "    <tr>\n",
       "      <th>75%</th>\n",
       "      <td>750.250000</td>\n",
       "      <td>745172.500000</td>\n",
       "      <td>742.000000</td>\n",
       "      <td>78.000000</td>\n",
       "    </tr>\n",
       "    <tr>\n",
       "      <th>max</th>\n",
       "      <td>1000.000000</td>\n",
       "      <td>998871.000000</td>\n",
       "      <td>1000.000000</td>\n",
       "      <td>133.000000</td>\n",
       "    </tr>\n",
       "  </tbody>\n",
       "</table>\n",
       "</div>"
      ],
      "text/plain": [
       "                id          score        nivel       idade\n",
       "count  1000.000000     998.000000   998.000000  997.000000\n",
       "mean    500.500000  496350.856713   495.098196   56.822467\n",
       "std     288.819436  283458.860428   288.395089   25.249907\n",
       "min       1.000000    -464.000000  -516.000000   12.000000\n",
       "25%     250.750000  259577.250000   247.750000   35.000000\n",
       "50%     500.500000  497023.500000   493.500000   59.000000\n",
       "75%     750.250000  745172.500000   742.000000   78.000000\n",
       "max    1000.000000  998871.000000  1000.000000  133.000000"
      ]
     },
     "execution_count": 145,
     "metadata": {},
     "output_type": "execute_result"
    }
   ],
   "source": [
    "# análise geral\n",
    "df.describe()"
   ]
  },
  {
   "cell_type": "markdown",
   "id": "082ffaf7-e87f-4f01-8703-ffe875d9e189",
   "metadata": {},
   "source": [
    "O describe() mostra um resumo básico das colunas numéricas. Dá pra ver que os valores de score e nivel chegam a ser negativos, o que já é um sinal de erro, já que pelas regras da base esses valores devem estar entre 0 e 1.000.000 (score) e entre 0 e 1000 (nivel).  \n",
    "A coluna idade também tem um valor máximo de 133, que passa do limite permitido (idade válida vai de 0 a 100).  \n",
    "Então, mesmo sem analisar graficamente, esse resumo já mostra que existem dados fora do intervalo permitido e que precisam de tratamento."
   ]
  },
  {
   "cell_type": "markdown",
   "id": "69e85b9a-c603-428c-9ec1-e02b6da1739c",
   "metadata": {},
   "source": [
    "* ### Coluna: score"
   ]
  },
  {
   "cell_type": "code",
   "execution_count": 147,
   "id": "943a6fd2-cc7a-4c45-a84a-d4b5534a2462",
   "metadata": {
    "editable": true,
    "slideshow": {
     "slide_type": ""
    },
    "tags": []
   },
   "outputs": [
    {
     "data": {
      "text/plain": [
       "Text(0.5, 1.0, 'Pontuação')"
      ]
     },
     "execution_count": 147,
     "metadata": {},
     "output_type": "execute_result"
    },
    {
     "data": {
      "image/png": "[encoded data removed]",
      "text/plain": [
       "<Figure size 640x480 with 1 Axes>"
      ]
     },
     "metadata": {},
     "output_type": "display_data"
    }
   ],
   "source": [
    "# boxplot: verificar outliers (valores fora do conjunto)\n",
    "srn.boxplot(df['score'], color='darkorange').set_title('Pontuação')"
   ]
  },
  {
   "cell_type": "code",
   "execution_count": 150,
   "id": "0b458b68-807d-448c-801a-3252dfdc741b",
   "metadata": {},
   "outputs": [
    {
     "data": {
      "text/plain": [
       "Text(0.5, 1.0, 'Pontuação')"
      ]
     },
     "execution_count": 150,
     "metadata": {},
     "output_type": "execute_result"
    },
    {
     "data": {
      "image/png": "[encoded data removed]",
      "text/plain": [
       "<Figure size 640x480 with 1 Axes>"
      ]
     },
     "metadata": {},
     "output_type": "display_data"
    }
   ],
   "source": [
    "# histograma: distribuição das frequencias\n",
    "srn.histplot(df['score'], color='darkorange').set_title('Pontuação')"
   ]
  },
  {
   "cell_type": "markdown",
   "id": "b00f9b55-fbe7-4092-afb5-5aad352265a2",
   "metadata": {},
   "source": [
    "Analisando a coluna 'score', vemos que há valores negativos, o que não faz sentido nesse contexto, já que o score deve variar entre 0 e 1.000.000. Mesmo que o boxplot não tenha destacado esses valores como outliers, eles claramente estão fora do intervalo permitido."
   ]
  },
  {
   "cell_type": "markdown",
   "id": "03804069-e8e4-43ba-8757-18fd83ba56c7",
   "metadata": {},
   "source": [
    "* ### Coluna: nivel"
   ]
  },
  {
   "cell_type": "code",
   "execution_count": 151,
   "id": "2901f57f-7e78-4bcb-814f-d04a95e33a58",
   "metadata": {},
   "outputs": [
    {
     "data": {
      "text/plain": [
       "Text(0.5, 1.0, 'Nivel')"
      ]
     },
     "execution_count": 151,
     "metadata": {},
     "output_type": "execute_result"
    },
    {
     "data": {
      "image/png": "[encoded data removed]",
      "text/plain": [
       "<Figure size 640x480 with 1 Axes>"
      ]
     },
     "metadata": {},
     "output_type": "display_data"
    }
   ],
   "source": [
    "# boxplot: verificar outliers (valores fora do conjunto)\n",
    "srn.boxplot(df['nivel'], color='hotpink').set_title('Nivel')"
   ]
  },
  {
   "cell_type": "code",
   "execution_count": 152,
   "id": "25edbe3e-4b99-4643-8052-2c0db37f275e",
   "metadata": {},
   "outputs": [
    {
     "data": {
      "text/plain": [
       "Text(0.5, 1.0, 'Nivel')"
      ]
     },
     "execution_count": 152,
     "metadata": {},
     "output_type": "execute_result"
    },
    {
     "data": {
      "image/png": "[encoded data removed]",
      "text/plain": [
       "<Figure size 640x480 with 1 Axes>"
      ]
     },
     "metadata": {},
     "output_type": "display_data"
    }
   ],
   "source": [
    "# histograma: distribuição das frequencias\n",
    "srn.histplot(df['nivel'], color='hotpink').set_title('Nivel')"
   ]
  },
  {
   "cell_type": "markdown",
   "id": "54190883-c4a5-41a0-b9de-405a519a9cf5",
   "metadata": {},
   "source": [
    "Na coluna 'nivel', além de existir valor negativo (o que já é inválido, já que o nível no jogo deve estar entre 0 e 1000), o próprio boxplot já identificou esses valores negativos como outliers. Ou seja, além de estarem fora da faixa permitida pelas regras do jogo, eles também se destacam graficamente como anomalias. Esses dados precisam ser tratados"
   ]
  },
  {
   "cell_type": "markdown",
   "id": "e38a9f75-bd2c-43e8-8b57-063e928d2f11",
   "metadata": {},
   "source": [
    "* ### Coluna: idade"
   ]
  },
  {
   "cell_type": "code",
   "execution_count": 153,
   "id": "e964c28b-b44c-4312-9d9e-b9273bcacbfd",
   "metadata": {},
   "outputs": [
    {
     "data": {
      "text/plain": [
       "Text(0.5, 1.0, 'Idade')"
      ]
     },
     "execution_count": 153,
     "metadata": {},
     "output_type": "execute_result"
    },
    {
     "data": {
      "image/png": "[encoded data removed]",
      "text/plain": [
       "<Figure size 640x480 with 1 Axes>"
      ]
     },
     "metadata": {},
     "output_type": "display_data"
    }
   ],
   "source": [
    "# boxplot: verificar outliers (valores fora do conjunto)\n",
    "srn.boxplot(df['idade'], color='mediumseagreen').set_title('Idade')"
   ]
  },
  {
   "cell_type": "code",
   "execution_count": 154,
   "id": "9ba42fb1-8269-482e-b72f-ae6896a60087",
   "metadata": {},
   "outputs": [
    {
     "data": {
      "text/plain": [
       "Text(0.5, 1.0, 'Idade')"
      ]
     },
     "execution_count": 154,
     "metadata": {},
     "output_type": "execute_result"
    },
    {
     "data": {
      "image/png": "[encoded data removed]",
      "text/plain": [
       "<Figure size 640x480 with 1 Axes>"
      ]
     },
     "metadata": {},
     "output_type": "display_data"
    }
   ],
   "source": [
    "# histograma: distribuição das frequencias\n",
    "srn.histplot(df['idade'], color='mediumseagreen').set_title('Idade')"
   ]
  },
  {
   "cell_type": "markdown",
   "id": "5296ba7c-fd84-4c53-85a3-26b857e48c0b",
   "metadata": {},
   "source": [
    "A idade é a coluna que parece mais estável, mas ainda assim apresenta valores acima de 100, o que vai contra as regras da base de dados (onde a idade deve estar entre 0 e 100). Vale destacar que o boxplot não apontou esses valores como outliers, então eles passam despercebidos visualmente. Mesmo assim, por estarem fora da faixa válida, esses dados precisam ser tratados.\n"
   ]
  },
  {
   "cell_type": "markdown",
   "id": "04a01ab8-18a8-4363-ade0-9707f5cb79ea",
   "metadata": {},
   "source": [
    "# **Tratamento dos Dados**\n",
    "\n",
    "Agora que já identifiquei os valores nulos e os dados que estão fora das regras, vou começar a tratá-los."
   ]
  },
  {
   "cell_type": "markdown",
   "id": "3eea22b3-a698-4565-9cf9-193bf21fd353",
   "metadata": {},
   "source": [
    "## Dados categoricos\n",
    "\n",
    "vou substituir os valores ausentes pela **moda**, que é o valor mais frequente e costuma fazer mais sentido nesses casos."
   ]
  },
  {
   "cell_type": "markdown",
   "id": "9f648ff3-ed35-4b6c-b9be-4858a4dbc73f",
   "metadata": {},
   "source": [
    "* ### Coluna: categoria"
   ]
  },
  {
   "cell_type": "code",
   "execution_count": 173,
   "id": "c6b4c70e-c944-4b09-8e17-c743f68a80ab",
   "metadata": {},
   "outputs": [
    {
     "data": {
      "text/plain": [
       "0"
      ]
     },
     "execution_count": 173,
     "metadata": {},
     "output_type": "execute_result"
    }
   ],
   "source": [
    "# preenchendo os valores nulos com a moda\n",
    "df.fillna({'categoria': 'mago'}, inplace = True)\n",
    "\n",
    "# verificar se ainda existem nulos\n",
    "df['categoria'].isnull().sum()"
   ]
  },
  {
   "cell_type": "code",
   "execution_count": 174,
   "id": "1bd335e5-727a-4b7a-9aa4-6fcb913cc08b",
   "metadata": {},
   "outputs": [
    {
     "data": {
      "text/plain": [
       "categoria\n",
       "elfo         238\n",
       "guerreiro    242\n",
       "mago         279\n",
       "orc          241\n",
       "dtype: int64"
      ]
     },
     "execution_count": 174,
     "metadata": {},
     "output_type": "execute_result"
    }
   ],
   "source": [
    "# Corrigindo erro de digitação: substituindo 'm@go' por 'mago'\n",
    "df.loc[df['categoria'] == 'm@go', 'categoria'] = 'mago'\n",
    "\n",
    "# Verificando novamente a contagem de categorias após a correção\n",
    "df.groupby(['categoria']).size()"
   ]
  },
  {
   "cell_type": "markdown",
   "id": "32d8fe15-846f-4bc8-9717-5f7cac3e66ee",
   "metadata": {},
   "source": [
    "A coluna categoria tinha 3 valores nulos e um erro de digitação (\"m@go\").  \n",
    "Substituí os nulos pela moda (\"mago\") e corrigi o valor com erro, como foi analisado nos gráficos.  \n",
    "Agora a coluna não tem mais nulos e os dados estão padronizados."
   ]
  },
  {
   "cell_type": "markdown",
   "id": "20ceab11-88ff-4cc5-afbc-6556bcf2f32f",
   "metadata": {},
   "source": [
    "* ### Coluna: pais"
   ]
  },
  {
   "cell_type": "code",
   "execution_count": 175,
   "id": "ab010856-7fe8-4a71-b131-728a2f40725c",
   "metadata": {},
   "outputs": [
    {
     "data": {
      "text/plain": [
       "0"
      ]
     },
     "execution_count": 175,
     "metadata": {},
     "output_type": "execute_result"
    }
   ],
   "source": [
    "# preenchendo os valores nulos com a moda\n",
    "df.fillna({'pais': 'Brazil'}, inplace = True)\n",
    "\n",
    "# verificar se ainda existem nulos\n",
    "df['pais'].isnull().sum()"
   ]
  },
  {
   "cell_type": "code",
   "execution_count": 176,
   "id": "751ad832-33a4-49ec-a1b2-6eb591634478",
   "metadata": {},
   "outputs": [
    {
     "data": {
      "text/plain": [
       "pais\n",
       "Australia           7\n",
       "Brazil            281\n",
       "Canada             94\n",
       "Italy              10\n",
       "Japan             131\n",
       "Mexico             74\n",
       "Portugal          223\n",
       "Spain              14\n",
       "United Kingdom     16\n",
       "United States     150\n",
       "dtype: int64"
      ]
     },
     "execution_count": 176,
     "metadata": {},
     "output_type": "execute_result"
    }
   ],
   "source": [
    "# Corrigindo os erros de digitação na coluna 'pais'\n",
    "df['pais'] = df['pais'].replace({\n",
    "    '%apan': 'Japan',\n",
    "    'C#nada': 'Canada',\n",
    "    'Portuga&': 'Portugal'\n",
    "})\n",
    "\n",
    "# Verificando novamente a contagem de paises após a correção\n",
    "df.groupby(['pais']).size()"
   ]
  },
  {
   "cell_type": "markdown",
   "id": "131fcb0f-c32b-44f0-8073-10e252927909",
   "metadata": {},
   "source": [
    "A coluna pais tinha 2 valores nulos e 3 erros de digitação: \"%apan\", \"C#nada\" e \"Portuga&\".  \n",
    "Corrigi os valores com erro para \"Japan\", \"Canada\" e \"Portugal\", e preenchi os nulos com a moda da coluna.  \n",
    "Agora os dados estão completos e padronizados."
   ]
  },
  {
   "cell_type": "markdown",
   "id": "fedc1c47-90a9-4c83-8594-cfb1d5f1ff13",
   "metadata": {},
   "source": [
    "## Dados numéricos\n",
    "\n",
    "vou substituir os valores inválidos ou ausentes pela mediana, já que ela não é afetada por outliers e representa melhor o centro da distribuição."
   ]
  },
  {
   "cell_type": "markdown",
   "id": "b2bbb339-4fee-4f03-bec4-0ebfc7920e3d",
   "metadata": {},
   "source": [
    "* ### Coluna: score\n",
    "    \n",
    "    Para fins didáticos, vou seguir a orientação de substituir os valores inválidos de score pela mediana.  \n",
    "    No entanto, se essa base estivesse sendo usada em um cenário real de competição, essa substituição poderia ser injusta com os outros participantes.  \n",
    "    O mais adequado seria zerar esses valores, já que não temos como saber a pontuação real que faltou.  \n",
    "    Por isso, deixo abaixo, comentado, o código que eu usaria nesse caso.\n",
    "\n",
    "\n",
    "\n",
    "\n"
   ]
  },
  {
   "cell_type": "code",
   "execution_count": 177,
   "id": "a5e90d00-12d6-4295-9fed-0d25f14222a8",
   "metadata": {},
   "outputs": [
    {
     "data": {
      "text/plain": [
       "456111.5"
      ]
     },
     "execution_count": 177,
     "metadata": {},
     "output_type": "execute_result"
    }
   ],
   "source": [
    "#calcular a mediana da pontuação\n",
    "mediana_score = sts.median(df[\"score\"])\n",
    "\n",
    "mediana_score"
   ]
  },
  {
   "cell_type": "code",
   "execution_count": 178,
   "id": "4576c15e-4c15-4799-a259-623cad8b9688",
   "metadata": {},
   "outputs": [
    {
     "data": {
      "text/plain": [
       "count       998.000000\n",
       "mean     496350.856713\n",
       "std      283458.860428\n",
       "min        -464.000000\n",
       "25%      259577.250000\n",
       "50%      497023.500000\n",
       "75%      745172.500000\n",
       "max      998871.000000\n",
       "Name: score, dtype: float64"
      ]
     },
     "execution_count": 178,
     "metadata": {},
     "output_type": "execute_result"
    }
   ],
   "source": [
    "#relembrando o resumo estatístico\n",
    "df['score'].describe()"
   ]
  },
  {
   "cell_type": "code",
   "execution_count": 179,
   "id": "bbf746d8-5e46-4a58-96b5-beef36da1d75",
   "metadata": {},
   "outputs": [
    {
     "data": {
      "text/plain": [
       "0"
      ]
     },
     "execution_count": 179,
     "metadata": {},
     "output_type": "execute_result"
    }
   ],
   "source": [
    "# preencher os valores nulos com a mediana\n",
    "df.fillna({'score' : mediana_score }, inplace=True)\n",
    "\n",
    "# Tratamento mais adequado em contexto de competição (comentado):\n",
    "# df.fillna({'score' :0 }, inplace=True)\n",
    "\n",
    "# verificar se ainda existem nulos\n",
    "df['score'].isnull().sum()"
   ]
  },
  {
   "cell_type": "code",
   "execution_count": 180,
   "id": "763312ae-4ec8-45b8-a4e5-fe4b2ebefb42",
   "metadata": {},
   "outputs": [
    {
     "data": {
      "text/plain": [
       "count      1000.000000\n",
       "mean     496726.953500\n",
       "std      282746.734129\n",
       "min         884.000000\n",
       "25%      260677.500000\n",
       "50%      495862.000000\n",
       "75%      744387.500000\n",
       "max      998871.000000\n",
       "Name: score, dtype: float64"
      ]
     },
     "execution_count": 180,
     "metadata": {},
     "output_type": "execute_result"
    }
   ],
   "source": [
    "# Substituindo os valores inválidos de score pela mediana\n",
    "df.loc[(df[\"score\"] < 0) | (df[\"score\"] > 1000000), \"score\"] = mediana_score\n",
    "\n",
    "# Tratamento mais adequado em um contexto de competição (comentado):\n",
    "# df.loc[(df['score'] < 0) | (df['score'] > 1000000), 'score'] = 0\n",
    "\n",
    "# Verificando os dados da coluna score após o tratamento\n",
    "df['score'].describe()"
   ]
  },
  {
   "cell_type": "markdown",
   "id": "d492d5f7-3287-4da6-8aa1-a0e0dec3c6e6",
   "metadata": {},
   "source": [
    "A coluna score tinha 2 valores nulos e outros fora do intervalo permitido.  \n",
    "Substituí todos eles pela mediana da coluna, conforme foi orientado na atividade.  \n",
    "Com isso, os dados agora estão completos e dentro das regras estabelecidas."
   ]
  },
  {
   "cell_type": "markdown",
   "id": "1dc8c7f5-182f-455a-b36e-8fd43b1cbce9",
   "metadata": {},
   "source": [
    "* ### Coluna: nivel"
   ]
  },
  {
   "cell_type": "code",
   "execution_count": 181,
   "id": "c8d45c4a-91b2-4224-a5aa-9bfc9ac93f05",
   "metadata": {},
   "outputs": [
    {
     "data": {
      "text/plain": [
       "14.0"
      ]
     },
     "execution_count": 181,
     "metadata": {},
     "output_type": "execute_result"
    }
   ],
   "source": [
    "#calcular a mediana do nivel\n",
    "mediana_nivel = sts.median(df[\"nivel\"])\n",
    "\n",
    "mediana_nivel"
   ]
  },
  {
   "cell_type": "code",
   "execution_count": 182,
   "id": "96cf9b3f-5a00-417c-905f-ce0267a5f072",
   "metadata": {},
   "outputs": [
    {
     "data": {
      "text/plain": [
       "count     998.000000\n",
       "mean      495.098196\n",
       "std       288.395089\n",
       "min      -516.000000\n",
       "25%       247.750000\n",
       "50%       493.500000\n",
       "75%       742.000000\n",
       "max      1000.000000\n",
       "Name: nivel, dtype: float64"
      ]
     },
     "execution_count": 182,
     "metadata": {},
     "output_type": "execute_result"
    }
   ],
   "source": [
    "#relembrando o resumo estatístico\n",
    "df['nivel'].describe()"
   ]
  },
  {
   "cell_type": "code",
   "execution_count": 183,
   "id": "497a12b7-cf00-4858-9ddb-02c4944c27e9",
   "metadata": {},
   "outputs": [
    {
     "data": {
      "text/plain": [
       "0"
      ]
     },
     "execution_count": 183,
     "metadata": {},
     "output_type": "execute_result"
    }
   ],
   "source": [
    "# preencher os valores nulos com a mediana\n",
    "df.fillna({'nivel' : mediana_nivel }, inplace=True)\n",
    "\n",
    "# verificar se ainda existem nulos\n",
    "df['nivel'].isnull().sum()"
   ]
  },
  {
   "cell_type": "code",
   "execution_count": 184,
   "id": "53dc2944-1f54-4cab-868f-1f6df42ac6c8",
   "metadata": {},
   "outputs": [
    {
     "data": {
      "text/plain": [
       "count    1000.000000\n",
       "mean      494.783000\n",
       "std       287.315931\n",
       "min         1.000000\n",
       "25%       246.750000\n",
       "50%       492.500000\n",
       "75%       742.000000\n",
       "max      1000.000000\n",
       "Name: nivel, dtype: float64"
      ]
     },
     "execution_count": 184,
     "metadata": {},
     "output_type": "execute_result"
    }
   ],
   "source": [
    "# Substituindo os valores inválidos de nivel pela mediana\n",
    "df.loc[(df[\"nivel\"] < 0) | (df[\"nivel\"] > 1000), \"nivel\"] = mediana_nivel\n",
    "\n",
    "# Verificando os dados da nivel score após o tratamento\n",
    "df['nivel'].describe()"
   ]
  },
  {
   "cell_type": "markdown",
   "id": "95cd4699-8ef0-407d-882a-2dc628f41d6f",
   "metadata": {},
   "source": [
    "A coluna nivel também apresentava 2 valores nulos e alguns fora do intervalo permitido (valores negativos e acima de 1000).  \n",
    "Substituí esses dados inválidos e ausentes pela mediana da coluna, conforme instrução em sala.  \n",
    "Agora os valores estão completos e dentro das regras definidas."
   ]
  },
  {
   "cell_type": "markdown",
   "id": "76c279c8-e491-40b6-bdb3-0bcfb13b1867",
   "metadata": {},
   "source": [
    "* ### Coluna: idade"
   ]
  },
  {
   "cell_type": "code",
   "execution_count": 185,
   "id": "9fd71eeb-6760-4180-b19d-a841ad2b6fff",
   "metadata": {},
   "outputs": [
    {
     "data": {
      "text/plain": [
       "43.0"
      ]
     },
     "execution_count": 185,
     "metadata": {},
     "output_type": "execute_result"
    }
   ],
   "source": [
    "#calcular a mediana da idade\n",
    "mediana_idade = sts.median(df[\"idade\"])\n",
    "\n",
    "mediana_idade"
   ]
  },
  {
   "cell_type": "code",
   "execution_count": 186,
   "id": "5ae0eb30-9cc7-4ab2-bcae-dab4e7b15ad1",
   "metadata": {},
   "outputs": [
    {
     "data": {
      "text/plain": [
       "count    997.000000\n",
       "mean      56.822467\n",
       "std       25.249907\n",
       "min       12.000000\n",
       "25%       35.000000\n",
       "50%       59.000000\n",
       "75%       78.000000\n",
       "max      133.000000\n",
       "Name: idade, dtype: float64"
      ]
     },
     "execution_count": 186,
     "metadata": {},
     "output_type": "execute_result"
    }
   ],
   "source": [
    "#relembrando o resumo estatístico\n",
    "df['idade'].describe()"
   ]
  },
  {
   "cell_type": "code",
   "execution_count": 187,
   "id": "dce3400d-ef38-452a-91d6-304649fac441",
   "metadata": {},
   "outputs": [
    {
     "data": {
      "text/plain": [
       "0"
      ]
     },
     "execution_count": 187,
     "metadata": {},
     "output_type": "execute_result"
    }
   ],
   "source": [
    "# preencher os valores nulos com a mediana\n",
    "df.fillna({'idade' : mediana_idade }, inplace=True)\n",
    "\n",
    "# verificar se ainda existem nulos\n",
    "df['idade'].isnull().sum()"
   ]
  },
  {
   "cell_type": "code",
   "execution_count": 188,
   "id": "f2df4ebe-9f42-4a9d-acfe-2af95ae86857",
   "metadata": {},
   "outputs": [
    {
     "data": {
      "text/plain": [
       "count    1000.000000\n",
       "mean       56.609000\n",
       "std        25.021835\n",
       "min        12.000000\n",
       "25%        35.000000\n",
       "50%        58.000000\n",
       "75%        78.000000\n",
       "max       100.000000\n",
       "Name: idade, dtype: float64"
      ]
     },
     "execution_count": 188,
     "metadata": {},
     "output_type": "execute_result"
    }
   ],
   "source": [
    "# Substituindo os valores inválidos de idade pela mediana\n",
    "df.loc[(df[\"idade\"] < 0) | (df[\"idade\"] > 100), \"idade\"] = mediana_idade\n",
    "\n",
    "# Verificando os dados da idade score após o tratamento\n",
    "df['idade'].describe()"
   ]
  },
  {
   "cell_type": "markdown",
   "id": "bad49b18-092b-4223-805e-5507ffeddbcb",
   "metadata": {},
   "source": [
    "A coluna idade tinha 3 valores nulos e alguns acima de 100, o que ultrapassa o limite estabelecido.  \n",
    "Todos esses valores foram substituídos pela mediana da coluna.  \n",
    "Com isso, a coluna passou a respeitar as regras da base e não possui mais dados ausentes ou inválidos."
   ]
  },
  {
   "cell_type": "markdown",
   "id": "eb189a0b-49cf-455e-a9e4-331b24a7fe17",
   "metadata": {},
   "source": [
    "# **Conclusão**\n",
    "\n",
    "Com a análise e o tratamento que fiz, o dataframe agora está padronizado, sem valores nulos e com todos os dados dentro das regras definidas.  \n",
    "Corrigi erros de digitação, tratei valores inválidos e preenchi campos ausentes, sempre pensando no impacto que essas alterações teriam em um cenário real, principalmente em sistemas de pontuação e colocação.\n",
    "\n",
    "Mesmo seguindo a orientação didática de substituir valores inválidos pela mediana, eu parei pra refletir sobre o que isso significaria fora do exercício.  \n",
    "Se essa base fosse usada em uma competição de verdade, preencher pontuações inválidas com estimativas poderia distorcer o ranking e acabar sendo injusto com os outros participantes.  \n",
    "Por isso, deixei comentado no código a abordagem que considero mais justa nesse tipo de caso: zerar os valores perdidos.\n",
    "\n",
    "Também acho importante destacar que, em uma situação real, o ideal nem seria eu corrigir esse tipo de erro diretamente.  \n",
    "Se os dados estão errados, como scores negativos ou nulos, isso indica um problema na forma como foram coletados.  \n",
    "O certo seria acionar quem inseriu essas informações e pedir uma justificativa ou uma correção na origem.  \n",
    "Corrigir tudo localmente, sem tratar a causa do erro, pode acabar mascarando falhas graves no processo.\n",
    "\n",
    "Durante a análise, também pensei sobre a natureza da base.  \n",
    "Mesmo sem nomes ou identificadores únicos, tudo nela: score, nível, idade, país e categoria, aponta pra um jogador individual.  \n",
    "Provavelmente os nomes foram removidos por simplicidade didática, já que strings únicas não agregam valor estatístico nesse tipo de análise.\n",
    "Isso me fez lembrar de como é importante não assumir o que os dados representam logo de cara, e sempre considerar o contexto antes de tratar ou tirar conclusões.\n",
    "\n",
    "Além disso, refleti que informações que remetem a pessoas são mais sensíveis à falsificação ou erro, porque são diretamente associadas a alguém que pode ser afetado.  \n",
    "Diferente de dados genéricos ou científicos (como de plantas ou objetos), dados sobre pessoas serão, na maioria das vezes, vistos pela própria pessoa, o que exige ainda mais cuidado e responsabilidade no tratamento.\n",
    "\n",
    "No geral, esse exercício me ajudou não só a praticar técnicas de análise e tratamento, mas também a desenvolver um olhar mais crítico sobre o que os dados significam, de onde vem e o impacto que pequenas decisões podem ter em uma análise real.\n",
    "\n"
   ]
  }
 ],
 "metadata": {
  "kernelspec": {
   "display_name": "Python 3 (ipykernel)",
   "language": "python",
   "name": "python3"
  },
  "language_info": {
   "codemirror_mode": {
    "name": "ipython",
    "version": 3
   },
   "file_extension": ".py",
   "mimetype": "text/x-python",
   "name": "python",
   "nbconvert_exporter": "python",
   "pygments_lexer": "ipython3",
   "version": "3.12.7"
  }
 },
 "nbformat": 4,
 "nbformat_minor": 5
}
