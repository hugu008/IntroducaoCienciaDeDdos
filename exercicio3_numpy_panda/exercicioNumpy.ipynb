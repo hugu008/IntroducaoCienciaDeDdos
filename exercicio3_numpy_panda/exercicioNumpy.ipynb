{
 "cells": [
  {
   "cell_type": "code",
   "execution_count": 1,
   "id": "1f365e59-a5b0-478b-a415-09b476d3a860",
   "metadata": {},
   "outputs": [],
   "source": [
    "import numpy as np"
   ]
  },
  {
   "cell_type": "code",
   "execution_count": 19,
   "id": "0b50f6e4-6ac8-4b9a-9651-81717592d40e",
   "metadata": {},
   "outputs": [
    {
     "data": {
      "text/plain": [
       "array([ 3.,  5.,  9., 16., 25.])"
      ]
     },
     "execution_count": 19,
     "metadata": {},
     "output_type": "execute_result"
    }
   ],
   "source": [
    "#1- Converta os elementos do array [3, 5, 9, 16, 25] para float.\n",
    "array1 = np.array([3, 5, 9, 16, 25])\n",
    "array_convert_float = array1.astype(np.float64)\n",
    "print(array_convert_float)"
   ]
  },
  {
   "cell_type": "code",
   "execution_count": 25,
   "id": "ee73fdf3-a390-4a20-9db3-7093375669b7",
   "metadata": {},
   "outputs": [],
   "source": [
    "#2- Dado o array [1.2, -3.6, 8.99999, 16.1], converta os seus elementos para int.\n",
    "array2 = np.array([1.2, -3.6, 8.99999, 16.1])\n",
    "array_convert_int = array2.astype(np.int32)\n",
    "print(array_convert_int)"
   ]
  },
  {
   "cell_type": "code",
   "execution_count": 26,
   "id": "643d48f8-9db4-4153-9cde-00aded0b2f42",
   "metadata": {},
   "outputs": [],
   "source": [
    "#3- Crie uma matriz 3x9 contendo apenas elementos com valor zero.\n",
    "matriz_zero_int = np.zeros([3, 9], dtype = np.int32)\n",
    "print(matriz_zero_int)"
   ]
  },
  {
   "cell_type": "code",
   "execution_count": 27,
   "id": "b98aa129-c81c-42a8-a959-fd24b7d37e95",
   "metadata": {},
   "outputs": [],
   "source": [
    "#4- Crie uma matriz 6x7 de números inteiros contendo elementos com valor 1.\n",
    "matriz_um_int = np.ones([6, 7], dtype = np.int32)\n",
    "print(matriz_um_int)"
   ]
  },
  {
   "cell_type": "code",
   "execution_count": 31,
   "id": "0de9d6e2-a279-443e-9878-1829e7067d24",
   "metadata": {},
   "outputs": [
    {
     "name": "stdout",
     "output_type": "stream",
     "text": [
      "[[1. 0. 0. 0.]\n",
      " [0. 1. 0. 0.]\n",
      " [0. 0. 1. 0.]\n",
      " [0. 0. 0. 1.]]\n"
     ]
    }
   ],
   "source": [
    "#5- Crie uma matriz identidade de tamanho 4.\n",
    "matriz_identidade = np.eye(4)\n",
    "print(matriz_identidade)"
   ]
  },
  {
   "cell_type": "code",
   "execution_count": 72,
   "id": "7f5782fd-7e10-4f72-9118-1425f3f07a63",
   "metadata": {},
   "outputs": [
    {
     "name": "stdout",
     "output_type": "stream",
     "text": [
      "[1 1 0 0 0]\n"
     ]
    }
   ],
   "source": [
    "#6- Crie um array de números aleatórios entre 0 e 1 de tamanho 5.\n",
    "array_ale_int = np.random.randint(2, size = 5) \n",
    "print(array_ale_int)"
   ]
  }
 ],
 "metadata": {
  "kernelspec": {
   "display_name": "Python 3 (ipykernel)",
   "language": "python",
   "name": "python3"
  },
  "language_info": {
   "codemirror_mode": {
    "name": "ipython",
    "version": 3
   },
   "file_extension": ".py",
   "mimetype": "text/x-python",
   "name": "python",
   "nbconvert_exporter": "python",
   "pygments_lexer": "ipython3",
   "version": "3.12.7"
  }
 },
 "nbformat": 4,
 "nbformat_minor": 5
}
