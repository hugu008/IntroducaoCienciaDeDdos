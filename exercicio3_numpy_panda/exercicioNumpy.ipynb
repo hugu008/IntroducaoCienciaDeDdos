{
 "cells": [
  {
   "cell_type": "code",
   "execution_count": 1,
   "id": "1f365e59-a5b0-478b-a415-09b476d3a860",
   "metadata": {},
   "outputs": [],
   "source": [
    "import numpy as np"
   ]
  },
  {
   "cell_type": "code",
   "execution_count": 19,
   "id": "0b50f6e4-6ac8-4b9a-9651-81717592d40e",
   "metadata": {},
   "outputs": [
    {
     "data": {
      "text/plain": [
       "array([ 3.,  5.,  9., 16., 25.])"
      ]
     },
     "execution_count": 19,
     "metadata": {},
     "output_type": "execute_result"
    }
   ],
   "source": [
    "#1- Converta os elementos do array [3, 5, 9, 16, 25] para float.\n",
    "\n",
    "array1 = np.array([3, 5, 9, 16, 25])\n",
    "array_convert_float = array1.astype(np.float64)\n",
    "print(array_convert_float)"
   ]
  },
  {
   "cell_type": "code",
   "execution_count": 78,
   "id": "ee73fdf3-a390-4a20-9db3-7093375669b7",
   "metadata": {},
   "outputs": [
    {
     "name": "stdout",
     "output_type": "stream",
     "text": [
      "[ 1 -3  8 16]\n"
     ]
    }
   ],
   "source": [
    "#2- Dado o array [1.2, -3.6, 8.99999, 16.1], converta os seus elementos para int.\n",
    "\n",
    "array2 = np.array([1.2, -3.6, 8.99999, 16.1])\n",
    "array_convert_int = array2.astype(np.int32)\n",
    "print(array_convert_int)"
   ]
  },
  {
   "cell_type": "code",
   "execution_count": 77,
   "id": "643d48f8-9db4-4153-9cde-00aded0b2f42",
   "metadata": {},
   "outputs": [
    {
     "name": "stdout",
     "output_type": "stream",
     "text": [
      "[[0 0 0 0 0 0 0 0 0]\n",
      " [0 0 0 0 0 0 0 0 0]\n",
      " [0 0 0 0 0 0 0 0 0]]\n"
     ]
    }
   ],
   "source": [
    "#3- Crie uma matriz 3x9 contendo apenas elementos com valor zero.\n",
    "\n",
    "matriz_zero_int = np.zeros([3, 9], dtype = np.int32)\n",
    "print(matriz_zero_int)"
   ]
  },
  {
   "cell_type": "code",
   "execution_count": 76,
   "id": "b98aa129-c81c-42a8-a959-fd24b7d37e95",
   "metadata": {},
   "outputs": [
    {
     "name": "stdout",
     "output_type": "stream",
     "text": [
      "[[1 1 1 1 1 1 1]\n",
      " [1 1 1 1 1 1 1]\n",
      " [1 1 1 1 1 1 1]\n",
      " [1 1 1 1 1 1 1]\n",
      " [1 1 1 1 1 1 1]\n",
      " [1 1 1 1 1 1 1]]\n"
     ]
    }
   ],
   "source": [
    "#4- Crie uma matriz 6x7 de números inteiros contendo elementos com valor 1.\n",
    "\n",
    "matriz_um_int = np.ones([6, 7], dtype = np.int32)\n",
    "print(matriz_um_int)"
   ]
  },
  {
   "cell_type": "code",
   "execution_count": 31,
   "id": "0de9d6e2-a279-443e-9878-1829e7067d24",
   "metadata": {
    "editable": true,
    "slideshow": {
     "slide_type": ""
    },
    "tags": []
   },
   "outputs": [
    {
     "name": "stdout",
     "output_type": "stream",
     "text": [
      "[[1. 0. 0. 0.]\n",
      " [0. 1. 0. 0.]\n",
      " [0. 0. 1. 0.]\n",
      " [0. 0. 0. 1.]]\n"
     ]
    }
   ],
   "source": [
    "#5- Crie uma matriz identidade de tamanho 4\n",
    "\n",
    "matriz_identidade = np.eye(4)\n",
    "print(matriz_identidade)"
   ]
  },
  {
   "cell_type": "code",
   "execution_count": 72,
   "id": "7f5782fd-7e10-4f72-9118-1425f3f07a63",
   "metadata": {},
   "outputs": [
    {
     "name": "stdout",
     "output_type": "stream",
     "text": [
      "[1 1 0 0 0]\n"
     ]
    }
   ],
   "source": [
    "#6- Crie um array de números aleatórios entre 0 e 1 de tamanho 5.\n",
    "\n",
    "array_ale_int = np.random.randint(2, size = 5) \n",
    "print(array_ale_int)"
   ]
  },
  {
   "cell_type": "code",
   "execution_count": 3,
   "id": "c6407a67-61c2-4821-8b95-91b56d4444d1",
   "metadata": {
    "scrolled": true
   },
   "outputs": [
    {
     "name": "stdout",
     "output_type": "stream",
     "text": [
      "[[4 2 2 1 4 0]\n",
      " [3 3 2 4 0 0]\n",
      " [4 2 0 3 2 0]]\n"
     ]
    }
   ],
   "source": [
    "#7 Crie uma matriz 3x6 contendo números aleatórios de 0 a 5 (0, 1, 2, 3, 4, 5).\n",
    "\n",
    "matriz_ale_int = np.random.randint(6, size = (3, 6)) \n",
    "print(matriz_ale_int)"
   ]
  },
  {
   "cell_type": "code",
   "execution_count": 3,
   "id": "9191ffdf-f140-46e5-9377-b2bf58eda218",
   "metadata": {},
   "outputs": [
    {
     "data": {
      "text/plain": [
       "array([[  4,   6,   8],\n",
       "       [ -4,   3,   2],\n",
       "       [ 22, -15,  12]])"
      ]
     },
     "execution_count": 3,
     "metadata": {},
     "output_type": "execute_result"
    }
   ],
   "source": [
    "#Considere a seguinte matriz para os exercícios 8 a 11:\n",
    "#[[4 6 8]\n",
    "#[-4 3 2]\n",
    "#[22 -15 12]]\n",
    "\n",
    "matriz_8_11 = np.array([\n",
    "    [4, 6, 8], \n",
    "    [-4, 3, 2], \n",
    "    [22, -15, 12]])"
   ]
  },
  {
   "cell_type": "code",
   "execution_count": 4,
   "id": "8cc83fc1-17db-4130-a5b5-19ce1014f56d",
   "metadata": {},
   "outputs": [
    {
     "name": "stdout",
     "output_type": "stream",
     "text": [
      "22\n"
     ]
    }
   ],
   "source": [
    "#8 Informe o código para exibir o valor máximo da matriz.\n",
    "\n",
    "print(matriz_8_11.max())"
   ]
  },
  {
   "cell_type": "code",
   "execution_count": 5,
   "id": "c797fb2c-01a2-467a-92a3-d48910b93f61",
   "metadata": {},
   "outputs": [
    {
     "name": "stdout",
     "output_type": "stream",
     "text": [
      "-15\n"
     ]
    }
   ],
   "source": [
    "#9 Qual o código para exibir o valor mínimo da matriz?\n",
    "\n",
    "print(matriz_8_11.min())"
   ]
  },
  {
   "cell_type": "code",
   "execution_count": 6,
   "id": "eff02ee0-b117-4aae-871f-727551f6735a",
   "metadata": {},
   "outputs": [
    {
     "name": "stdout",
     "output_type": "stream",
     "text": [
      "38\n"
     ]
    }
   ],
   "source": [
    "#10 Como fazer para imprimir na tela a soma dos elementos da matriz?\n",
    "\n",
    "print(matriz_8_11.sum())"
   ]
  },
  {
   "cell_type": "code",
   "execution_count": 7,
   "id": "d031e81b-3a9b-4ff6-849c-66e23bcea8b5",
   "metadata": {},
   "outputs": [
    {
     "name": "stdout",
     "output_type": "stream",
     "text": [
      "4.222222222222222\n"
     ]
    }
   ],
   "source": [
    "#11 Escreva o código necessário para exibir a média dos elementos da matriz.\n",
    "\n",
    "print(matriz_8_11.mean())"
   ]
  },
  {
   "cell_type": "code",
   "execution_count": 8,
   "id": "e85da075-1d68-4310-9280-0521826d3531",
   "metadata": {},
   "outputs": [
    {
     "data": {
      "text/plain": [
       "array([ 1, -2,  6,  8, 23, 15,  3, 90,  4, 10, 56, 12])"
      ]
     },
     "execution_count": 8,
     "metadata": {},
     "output_type": "execute_result"
    }
   ],
   "source": [
    "#Considere o seguinte array para os exercícios 12 a 16.\n",
    "#[13 -2 6 8 23 15 3 90 4 10 56 12]\n",
    "\n",
    "array_12_16 = np.array([1, -2, 6, 8, 23, 15, 3, 90, 4, 10, 56, 12])"
   ]
  },
  {
   "cell_type": "code",
   "execution_count": 23,
   "id": "2d80c9ee-a901-47af-bdec-86b6df4ec57c",
   "metadata": {},
   "outputs": [
    {
     "name": "stdout",
     "output_type": "stream",
     "text": [
      "8\n"
     ]
    }
   ],
   "source": [
    "#12 Exibir o 4º elemento do array.\n",
    "\n",
    "print(array_12_16[3])"
   ]
  },
  {
   "cell_type": "code",
   "execution_count": 24,
   "id": "8e34db0c-9f9c-458f-9804-5a1530eff831",
   "metadata": {},
   "outputs": [
    {
     "name": "stdout",
     "output_type": "stream",
     "text": [
      "[10 56 12]\n"
     ]
    }
   ],
   "source": [
    "#13 Exibir os 3 últimos elementos do array.\n",
    "\n",
    "print(array_12_16[-3:])"
   ]
  },
  {
   "cell_type": "code",
   "execution_count": 26,
   "id": "5a5ac020-4a12-4525-83d2-1e70bd056232",
   "metadata": {},
   "outputs": [
    {
     "name": "stdout",
     "output_type": "stream",
     "text": [
      "[ 6  8 23 15  3 90  4 10 56 12]\n"
     ]
    }
   ],
   "source": [
    "#14 Exibir os elementos a partir da posição 2.\n",
    "\n",
    "print(array_12_16[2:])"
   ]
  },
  {
   "cell_type": "code",
   "execution_count": 79,
   "id": "cadb72cc-a519-4fca-8ab5-fb75799b24ab",
   "metadata": {},
   "outputs": [
    {
     "name": "stdout",
     "output_type": "stream",
     "text": [
      "[-2  6  8 23 15]\n"
     ]
    }
   ],
   "source": [
    "#15 Exibir um array entre o 2º e o 6º elementos. O 6º elemento deve estar presente.\n",
    "\n",
    "print(array_12_16[1:6])"
   ]
  },
  {
   "cell_type": "code",
   "execution_count": 82,
   "id": "fd0953e0-542c-45e4-9588-e75b13aedc79",
   "metadata": {},
   "outputs": [
    {
     "name": "stdout",
     "output_type": "stream",
     "text": [
      "[23 15  3 90]\n"
     ]
    }
   ],
   "source": [
    "#16 Escreva o código que resulta na exibição do seguinte array: [23 15 3 90] \n",
    "\n",
    "print(array_12_16[4:8])"
   ]
  },
  {
   "cell_type": "code",
   "execution_count": 65,
   "id": "33ec4361-8232-4e6d-a3a3-c1ee66131300",
   "metadata": {},
   "outputs": [],
   "source": [
    "#Considere a seguinte matriz para os exercícios de 16 a 20\n",
    "#\t[[1\t3\t16\t -25\t14]\n",
    "#\t [2\t0\t10\t5\t17]\n",
    "#\t [19\t4\t8\t15\t13]\n",
    "#\t [7\t12\t-5\t14\t0]]\n",
    "\n",
    "matriz_17_20 = np.array([\n",
    "    [1, 3, 16, -25, 14],\n",
    "    [2, 0, 10, 5, 17],\n",
    "    [19, 4, 8, 15, 13],\n",
    "    [7, 12, -5, 14, 0]])"
   ]
  },
  {
   "cell_type": "code",
   "execution_count": 30,
   "id": "2a5c556c-3c39-4c8c-a3df-50d360444305",
   "metadata": {},
   "outputs": [
    {
     "name": "stdout",
     "output_type": "stream",
     "text": [
      "[19  4  8 15 13]\n"
     ]
    }
   ],
   "source": [
    "#17 Escreva o código para exibir a 3ª linha da matriz.\n",
    "\n",
    "print(matriz_17_20[2])"
   ]
  },
  {
   "cell_type": "code",
   "execution_count": 32,
   "id": "4dbd5f2d-5ef6-4df7-a9d1-62e73bbaee59",
   "metadata": {},
   "outputs": [
    {
     "name": "stdout",
     "output_type": "stream",
     "text": [
      "[-25   5  15  14]\n"
     ]
    }
   ],
   "source": [
    "#18 Escreva o código para exibir a 4ª coluna\n",
    "\n",
    "print(matriz_17_20[:, 3])"
   ]
  },
  {
   "cell_type": "code",
   "execution_count": 67,
   "id": "5072e706-c3df-4b1e-8c44-af10c8a4214c",
   "metadata": {},
   "outputs": [
    {
     "name": "stdout",
     "output_type": "stream",
     "text": [
      "[10]\n"
     ]
    }
   ],
   "source": [
    "#19 Escreva o código para exibir o elemento de valor 10.\n",
    "\n",
    "indices = np.where(matriz_17_20 == 10)\n",
    "print(matriz_17_20[indices])"
   ]
  },
  {
   "cell_type": "code",
   "execution_count": 73,
   "id": "9a9e083d-82d0-44e3-b667-d563cd4393aa",
   "metadata": {},
   "outputs": [
    {
     "name": "stdout",
     "output_type": "stream",
     "text": [
      "[[ 0 10  5]\n",
      " [ 4  8 15]]\n"
     ]
    }
   ],
   "source": [
    "#20 Escreva o código que resulta na seguinte matriz:\n",
    "#    [[0\t10\t5]\n",
    "#     [4\t8\t15]]\n",
    "\n",
    "print(matriz_17_20[1:3, 1:4])"
   ]
  },
  {
   "cell_type": "code",
   "execution_count": 75,
   "id": "ca6b5373-77ca-4a68-8a6d-4864f2642686",
   "metadata": {},
   "outputs": [
    {
     "name": "stdout",
     "output_type": "stream",
     "text": [
      "[[2 1 1 2]\n",
      " [1 2 2 1]\n",
      " [1 2 1 1]]\n"
     ]
    }
   ],
   "source": [
    "#21 Dada a seguinte matriz:\n",
    "#\t[[2\t-1\t15\t24]\n",
    "#\t[-3\t18\t4\t25]\n",
    "#\t[9\t10\t-13\t7]]\n",
    "\n",
    "#Crie uma nova matriz, atribuindo o valor 1 para os números ímpares, e 2, para os números pares, utilizando a biblioteca numpy.\n",
    "matriz_21 = np.array([\n",
    "    [2, -1, 15, 24],\n",
    "    [-3, 18, 4, 25],\n",
    "    [9, 10, -13, 7]\n",
    "])\n",
    "\n",
    "matriz_nova = np.where(matriz_21 % 2 == 0, 2, 1)\n",
    "print(matriz_nova)"
   ]
  }
 ],
 "metadata": {
  "kernelspec": {
   "display_name": "Python 3 (ipykernel)",
   "language": "python",
   "name": "python3"
  },
  "language_info": {
   "codemirror_mode": {
    "name": "ipython",
    "version": 3
   },
   "file_extension": ".py",
   "mimetype": "text/x-python",
   "name": "python",
   "nbconvert_exporter": "python",
   "pygments_lexer": "ipython3",
   "version": "3.12.7"
  }
 },
 "nbformat": 4,
 "nbformat_minor": 5
}
